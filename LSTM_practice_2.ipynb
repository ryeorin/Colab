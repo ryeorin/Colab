{
  "cells": [
    {
      "cell_type": "markdown",
      "metadata": {
        "id": "view-in-github",
        "colab_type": "text"
      },
      "source": [
        "<a href=\"https://colab.research.google.com/github/ryeorin/Colab/blob/main/LSTM_practice_2.ipynb\" target=\"_parent\"><img src=\"https://colab.research.google.com/assets/colab-badge.svg\" alt=\"Open In Colab\"/></a>"
      ]
    },
    {
      "cell_type": "markdown",
      "id": "db55b49b",
      "metadata": {
        "id": "db55b49b"
      },
      "source": [
        "# LSTM 실습 1 :  삼성전자 주가 데이터 예측하기"
      ]
    },
    {
      "cell_type": "markdown",
      "source": [
        "## 삼성전자 주가 데이터 불러오기\n",
        "1. 구글 드라이브 마운트하기\n",
        "2. 아래 [folder_name] 변수를 프로젝트 루트 디렉토리 이름으로 수정하기"
      ],
      "metadata": {
        "id": "iE1SDpja_ICq"
      },
      "id": "iE1SDpja_ICq"
    },
    {
      "cell_type": "code",
      "source": [
        "import os\n",
        "from google.colab import drive\n",
        "drive.mount('/content/drive')"
      ],
      "metadata": {
        "id": "E7cHFpuM5NC5",
        "colab": {
          "base_uri": "https://localhost:8080/"
        },
        "outputId": "8882d100-d70c-40e3-a5dc-3956aaa5319a"
      },
      "id": "E7cHFpuM5NC5",
      "execution_count": null,
      "outputs": [
        {
          "output_type": "stream",
          "name": "stdout",
          "text": [
            "Drive already mounted at /content/drive; to attempt to forcibly remount, call drive.mount(\"/content/drive\", force_remount=True).\n"
          ]
        }
      ]
    },
    {
      "cell_type": "code",
      "source": [
        "folder_name = 'lec'\n",
        "root_dir = os.path.join('/content/drive/MyDrive', folder_name)"
      ],
      "metadata": {
        "id": "-sWE0COvBO7X"
      },
      "id": "-sWE0COvBO7X",
      "execution_count": null,
      "outputs": []
    },
    {
      "cell_type": "code",
      "execution_count": null,
      "id": "72a47e55",
      "metadata": {
        "colab": {
          "base_uri": "https://localhost:8080/",
          "height": 237
        },
        "id": "72a47e55",
        "outputId": "b6a22eb1-6702-41d1-a4bb-8ef44b345121"
      },
      "outputs": [
        {
          "output_type": "execute_result",
          "data": {
            "text/plain": [
              "            High   Low  Open    Volume    Adj Close  Close\n",
              "Date                                                      \n",
              "2000-01-04  6110  5660  6000  74195000  4719.226074   6110\n",
              "2000-01-05  6060  5520  5800  74680000  4309.866211   5580\n",
              "2000-01-06  5780  5580  5750  54390000  4340.761230   5620\n",
              "2000-01-07  5670  5360  5560  40305000  4278.971680   5540\n",
              "2000-01-10  5770  5580  5600  46880000  4456.618652   5770"
            ],
            "text/html": [
              "\n",
              "  <div id=\"df-9fd98882-28fe-4428-bffa-8153c4619f61\" class=\"colab-df-container\">\n",
              "    <div>\n",
              "<style scoped>\n",
              "    .dataframe tbody tr th:only-of-type {\n",
              "        vertical-align: middle;\n",
              "    }\n",
              "\n",
              "    .dataframe tbody tr th {\n",
              "        vertical-align: top;\n",
              "    }\n",
              "\n",
              "    .dataframe thead th {\n",
              "        text-align: right;\n",
              "    }\n",
              "</style>\n",
              "<table border=\"1\" class=\"dataframe\">\n",
              "  <thead>\n",
              "    <tr style=\"text-align: right;\">\n",
              "      <th></th>\n",
              "      <th>High</th>\n",
              "      <th>Low</th>\n",
              "      <th>Open</th>\n",
              "      <th>Volume</th>\n",
              "      <th>Adj Close</th>\n",
              "      <th>Close</th>\n",
              "    </tr>\n",
              "    <tr>\n",
              "      <th>Date</th>\n",
              "      <th></th>\n",
              "      <th></th>\n",
              "      <th></th>\n",
              "      <th></th>\n",
              "      <th></th>\n",
              "      <th></th>\n",
              "    </tr>\n",
              "  </thead>\n",
              "  <tbody>\n",
              "    <tr>\n",
              "      <th>2000-01-04</th>\n",
              "      <td>6110</td>\n",
              "      <td>5660</td>\n",
              "      <td>6000</td>\n",
              "      <td>74195000</td>\n",
              "      <td>4719.226074</td>\n",
              "      <td>6110</td>\n",
              "    </tr>\n",
              "    <tr>\n",
              "      <th>2000-01-05</th>\n",
              "      <td>6060</td>\n",
              "      <td>5520</td>\n",
              "      <td>5800</td>\n",
              "      <td>74680000</td>\n",
              "      <td>4309.866211</td>\n",
              "      <td>5580</td>\n",
              "    </tr>\n",
              "    <tr>\n",
              "      <th>2000-01-06</th>\n",
              "      <td>5780</td>\n",
              "      <td>5580</td>\n",
              "      <td>5750</td>\n",
              "      <td>54390000</td>\n",
              "      <td>4340.761230</td>\n",
              "      <td>5620</td>\n",
              "    </tr>\n",
              "    <tr>\n",
              "      <th>2000-01-07</th>\n",
              "      <td>5670</td>\n",
              "      <td>5360</td>\n",
              "      <td>5560</td>\n",
              "      <td>40305000</td>\n",
              "      <td>4278.971680</td>\n",
              "      <td>5540</td>\n",
              "    </tr>\n",
              "    <tr>\n",
              "      <th>2000-01-10</th>\n",
              "      <td>5770</td>\n",
              "      <td>5580</td>\n",
              "      <td>5600</td>\n",
              "      <td>46880000</td>\n",
              "      <td>4456.618652</td>\n",
              "      <td>5770</td>\n",
              "    </tr>\n",
              "  </tbody>\n",
              "</table>\n",
              "</div>\n",
              "    <div class=\"colab-df-buttons\">\n",
              "\n",
              "  <div class=\"colab-df-container\">\n",
              "    <button class=\"colab-df-convert\" onclick=\"convertToInteractive('df-9fd98882-28fe-4428-bffa-8153c4619f61')\"\n",
              "            title=\"Convert this dataframe to an interactive table.\"\n",
              "            style=\"display:none;\">\n",
              "\n",
              "  <svg xmlns=\"http://www.w3.org/2000/svg\" height=\"24px\" viewBox=\"0 -960 960 960\">\n",
              "    <path d=\"M120-120v-720h720v720H120Zm60-500h600v-160H180v160Zm220 220h160v-160H400v160Zm0 220h160v-160H400v160ZM180-400h160v-160H180v160Zm440 0h160v-160H620v160ZM180-180h160v-160H180v160Zm440 0h160v-160H620v160Z\"/>\n",
              "  </svg>\n",
              "    </button>\n",
              "\n",
              "  <style>\n",
              "    .colab-df-container {\n",
              "      display:flex;\n",
              "      gap: 12px;\n",
              "    }\n",
              "\n",
              "    .colab-df-convert {\n",
              "      background-color: #E8F0FE;\n",
              "      border: none;\n",
              "      border-radius: 50%;\n",
              "      cursor: pointer;\n",
              "      display: none;\n",
              "      fill: #1967D2;\n",
              "      height: 32px;\n",
              "      padding: 0 0 0 0;\n",
              "      width: 32px;\n",
              "    }\n",
              "\n",
              "    .colab-df-convert:hover {\n",
              "      background-color: #E2EBFA;\n",
              "      box-shadow: 0px 1px 2px rgba(60, 64, 67, 0.3), 0px 1px 3px 1px rgba(60, 64, 67, 0.15);\n",
              "      fill: #174EA6;\n",
              "    }\n",
              "\n",
              "    .colab-df-buttons div {\n",
              "      margin-bottom: 4px;\n",
              "    }\n",
              "\n",
              "    [theme=dark] .colab-df-convert {\n",
              "      background-color: #3B4455;\n",
              "      fill: #D2E3FC;\n",
              "    }\n",
              "\n",
              "    [theme=dark] .colab-df-convert:hover {\n",
              "      background-color: #434B5C;\n",
              "      box-shadow: 0px 1px 3px 1px rgba(0, 0, 0, 0.15);\n",
              "      filter: drop-shadow(0px 1px 2px rgba(0, 0, 0, 0.3));\n",
              "      fill: #FFFFFF;\n",
              "    }\n",
              "  </style>\n",
              "\n",
              "    <script>\n",
              "      const buttonEl =\n",
              "        document.querySelector('#df-9fd98882-28fe-4428-bffa-8153c4619f61 button.colab-df-convert');\n",
              "      buttonEl.style.display =\n",
              "        google.colab.kernel.accessAllowed ? 'block' : 'none';\n",
              "\n",
              "      async function convertToInteractive(key) {\n",
              "        const element = document.querySelector('#df-9fd98882-28fe-4428-bffa-8153c4619f61');\n",
              "        const dataTable =\n",
              "          await google.colab.kernel.invokeFunction('convertToInteractive',\n",
              "                                                    [key], {});\n",
              "        if (!dataTable) return;\n",
              "\n",
              "        const docLinkHtml = 'Like what you see? Visit the ' +\n",
              "          '<a target=\"_blank\" href=https://colab.research.google.com/notebooks/data_table.ipynb>data table notebook</a>'\n",
              "          + ' to learn more about interactive tables.';\n",
              "        element.innerHTML = '';\n",
              "        dataTable['output_type'] = 'display_data';\n",
              "        await google.colab.output.renderOutput(dataTable, element);\n",
              "        const docLink = document.createElement('div');\n",
              "        docLink.innerHTML = docLinkHtml;\n",
              "        element.appendChild(docLink);\n",
              "      }\n",
              "    </script>\n",
              "  </div>\n",
              "\n",
              "\n",
              "<div id=\"df-10e34dfe-9b92-402c-b8ed-7125869e54a9\">\n",
              "  <button class=\"colab-df-quickchart\" onclick=\"quickchart('df-10e34dfe-9b92-402c-b8ed-7125869e54a9')\"\n",
              "            title=\"Suggest charts.\"\n",
              "            style=\"display:none;\">\n",
              "\n",
              "<svg xmlns=\"http://www.w3.org/2000/svg\" height=\"24px\"viewBox=\"0 0 24 24\"\n",
              "     width=\"24px\">\n",
              "    <g>\n",
              "        <path d=\"M19 3H5c-1.1 0-2 .9-2 2v14c0 1.1.9 2 2 2h14c1.1 0 2-.9 2-2V5c0-1.1-.9-2-2-2zM9 17H7v-7h2v7zm4 0h-2V7h2v10zm4 0h-2v-4h2v4z\"/>\n",
              "    </g>\n",
              "</svg>\n",
              "  </button>\n",
              "\n",
              "<style>\n",
              "  .colab-df-quickchart {\n",
              "      --bg-color: #E8F0FE;\n",
              "      --fill-color: #1967D2;\n",
              "      --hover-bg-color: #E2EBFA;\n",
              "      --hover-fill-color: #174EA6;\n",
              "      --disabled-fill-color: #AAA;\n",
              "      --disabled-bg-color: #DDD;\n",
              "  }\n",
              "\n",
              "  [theme=dark] .colab-df-quickchart {\n",
              "      --bg-color: #3B4455;\n",
              "      --fill-color: #D2E3FC;\n",
              "      --hover-bg-color: #434B5C;\n",
              "      --hover-fill-color: #FFFFFF;\n",
              "      --disabled-bg-color: #3B4455;\n",
              "      --disabled-fill-color: #666;\n",
              "  }\n",
              "\n",
              "  .colab-df-quickchart {\n",
              "    background-color: var(--bg-color);\n",
              "    border: none;\n",
              "    border-radius: 50%;\n",
              "    cursor: pointer;\n",
              "    display: none;\n",
              "    fill: var(--fill-color);\n",
              "    height: 32px;\n",
              "    padding: 0;\n",
              "    width: 32px;\n",
              "  }\n",
              "\n",
              "  .colab-df-quickchart:hover {\n",
              "    background-color: var(--hover-bg-color);\n",
              "    box-shadow: 0 1px 2px rgba(60, 64, 67, 0.3), 0 1px 3px 1px rgba(60, 64, 67, 0.15);\n",
              "    fill: var(--button-hover-fill-color);\n",
              "  }\n",
              "\n",
              "  .colab-df-quickchart-complete:disabled,\n",
              "  .colab-df-quickchart-complete:disabled:hover {\n",
              "    background-color: var(--disabled-bg-color);\n",
              "    fill: var(--disabled-fill-color);\n",
              "    box-shadow: none;\n",
              "  }\n",
              "\n",
              "  .colab-df-spinner {\n",
              "    border: 2px solid var(--fill-color);\n",
              "    border-color: transparent;\n",
              "    border-bottom-color: var(--fill-color);\n",
              "    animation:\n",
              "      spin 1s steps(1) infinite;\n",
              "  }\n",
              "\n",
              "  @keyframes spin {\n",
              "    0% {\n",
              "      border-color: transparent;\n",
              "      border-bottom-color: var(--fill-color);\n",
              "      border-left-color: var(--fill-color);\n",
              "    }\n",
              "    20% {\n",
              "      border-color: transparent;\n",
              "      border-left-color: var(--fill-color);\n",
              "      border-top-color: var(--fill-color);\n",
              "    }\n",
              "    30% {\n",
              "      border-color: transparent;\n",
              "      border-left-color: var(--fill-color);\n",
              "      border-top-color: var(--fill-color);\n",
              "      border-right-color: var(--fill-color);\n",
              "    }\n",
              "    40% {\n",
              "      border-color: transparent;\n",
              "      border-right-color: var(--fill-color);\n",
              "      border-top-color: var(--fill-color);\n",
              "    }\n",
              "    60% {\n",
              "      border-color: transparent;\n",
              "      border-right-color: var(--fill-color);\n",
              "    }\n",
              "    80% {\n",
              "      border-color: transparent;\n",
              "      border-right-color: var(--fill-color);\n",
              "      border-bottom-color: var(--fill-color);\n",
              "    }\n",
              "    90% {\n",
              "      border-color: transparent;\n",
              "      border-bottom-color: var(--fill-color);\n",
              "    }\n",
              "  }\n",
              "</style>\n",
              "\n",
              "  <script>\n",
              "    async function quickchart(key) {\n",
              "      const quickchartButtonEl =\n",
              "        document.querySelector('#' + key + ' button');\n",
              "      quickchartButtonEl.disabled = true;  // To prevent multiple clicks.\n",
              "      quickchartButtonEl.classList.add('colab-df-spinner');\n",
              "      try {\n",
              "        const charts = await google.colab.kernel.invokeFunction(\n",
              "            'suggestCharts', [key], {});\n",
              "      } catch (error) {\n",
              "        console.error('Error during call to suggestCharts:', error);\n",
              "      }\n",
              "      quickchartButtonEl.classList.remove('colab-df-spinner');\n",
              "      quickchartButtonEl.classList.add('colab-df-quickchart-complete');\n",
              "    }\n",
              "    (() => {\n",
              "      let quickchartButtonEl =\n",
              "        document.querySelector('#df-10e34dfe-9b92-402c-b8ed-7125869e54a9 button');\n",
              "      quickchartButtonEl.style.display =\n",
              "        google.colab.kernel.accessAllowed ? 'block' : 'none';\n",
              "    })();\n",
              "  </script>\n",
              "</div>\n",
              "    </div>\n",
              "  </div>\n"
            ]
          },
          "metadata": {},
          "execution_count": 24
        }
      ],
      "source": [
        "import pandas as pd\n",
        "\n",
        "df = pd.read_csv(os.path.join(root_dir, 'samsung_cospi.csv'), index_col='Date')\n",
        "\n",
        "df.head(5)\n",
        "\n",
        "# Date :  날짜\n",
        "# High :  고가\n",
        "# Low :  저가\n",
        "# Open :  시가\n",
        "# Adj Close : 조정 종가 -> target\n",
        "# Close :  종가"
      ]
    },
    {
      "cell_type": "markdown",
      "source": [
        "## 학습 준비\n",
        "1. 입력 데이터 준비\n",
        "2. 하이퍼파라미터 정의\n",
        "3. 모델 정의"
      ],
      "metadata": {
        "id": "dS1A4hbi_zJd"
      },
      "id": "dS1A4hbi_zJd"
    },
    {
      "cell_type": "code",
      "execution_count": null,
      "id": "075caa85",
      "metadata": {
        "id": "075caa85"
      },
      "outputs": [],
      "source": [
        "import numpy as np\n",
        "import matplotlib.pyplot as plt\n",
        "%matplotlib inline\n",
        "\n",
        "import torch\n",
        "import torch.nn as nn\n",
        "import torch.optim as optim\n",
        "\n",
        "from torch.utils.data import Dataset, DataLoader"
      ]
    },
    {
      "cell_type": "code",
      "execution_count": null,
      "id": "cbd4435c",
      "metadata": {
        "id": "cbd4435c"
      },
      "outputs": [],
      "source": [
        "X = df.drop(columns='Adj Close')\n",
        "y = df.iloc[:, 4:5]"
      ]
    },
    {
      "cell_type": "code",
      "source": [
        "print(X, y, sep='\\n\\n')"
      ],
      "metadata": {
        "colab": {
          "base_uri": "https://localhost:8080/"
        },
        "id": "kawW7zXWFjSY",
        "outputId": "303ea004-faaf-4f5f-e07e-77c012c341b9"
      },
      "id": "kawW7zXWFjSY",
      "execution_count": null,
      "outputs": [
        {
          "output_type": "stream",
          "name": "stdout",
          "text": [
            "             High    Low   Open    Volume  Close\n",
            "Date                                            \n",
            "2000-01-04   6110   5660   6000  74195000   6110\n",
            "2000-01-05   6060   5520   5800  74680000   5580\n",
            "2000-01-06   5780   5580   5750  54390000   5620\n",
            "2000-01-07   5670   5360   5560  40305000   5540\n",
            "2000-01-10   5770   5580   5600  46880000   5770\n",
            "...           ...    ...    ...       ...    ...\n",
            "2021-07-26  79500  78800  79400  10040975  78800\n",
            "2021-07-27  79400  78500  79200  11427693  78500\n",
            "2021-07-28  79200  78100  78300  12743417  79200\n",
            "2021-07-29  79400  78800  78800  14360453  79000\n",
            "2021-07-30  78900  78500  78900  13823411  78500\n",
            "\n",
            "[5419 rows x 5 columns]\n",
            "\n",
            "               Adj Close\n",
            "Date                    \n",
            "2000-01-04   4719.226074\n",
            "2000-01-05   4309.866211\n",
            "2000-01-06   4340.761230\n",
            "2000-01-07   4278.971680\n",
            "2000-01-10   4456.618652\n",
            "...                  ...\n",
            "2021-07-26  78800.000000\n",
            "2021-07-27  78500.000000\n",
            "2021-07-28  79200.000000\n",
            "2021-07-29  79000.000000\n",
            "2021-07-30  78500.000000\n",
            "\n",
            "[5419 rows x 1 columns]\n"
          ]
        }
      ]
    },
    {
      "cell_type": "code",
      "execution_count": null,
      "id": "53d31239",
      "metadata": {
        "id": "53d31239",
        "colab": {
          "base_uri": "https://localhost:8080/"
        },
        "outputId": "878659db-e8b6-4ffb-eaac-08ba7da56979"
      },
      "outputs": [
        {
          "output_type": "stream",
          "name": "stdout",
          "text": [
            "Requirement already satisfied: scikit-learn==1.2.2 in /usr/local/lib/python3.10/dist-packages (1.2.2)\n",
            "Requirement already satisfied: numpy>=1.17.3 in /usr/local/lib/python3.10/dist-packages (from scikit-learn==1.2.2) (1.23.5)\n",
            "Requirement already satisfied: scipy>=1.3.2 in /usr/local/lib/python3.10/dist-packages (from scikit-learn==1.2.2) (1.11.2)\n",
            "Requirement already satisfied: joblib>=1.1.1 in /usr/local/lib/python3.10/dist-packages (from scikit-learn==1.2.2) (1.3.2)\n",
            "Requirement already satisfied: threadpoolctl>=2.0.0 in /usr/local/lib/python3.10/dist-packages (from scikit-learn==1.2.2) (3.2.0)\n"
          ]
        }
      ],
      "source": [
        "!pip install scikit-learn==1.2.2\n",
        "\n",
        "from sklearn.preprocessing import MinMaxScaler"
      ]
    },
    {
      "cell_type": "code",
      "source": [
        "mm = MinMaxScaler()\n",
        "ss = MinMaxScaler()"
      ],
      "metadata": {
        "id": "_867619oG8WE"
      },
      "id": "_867619oG8WE",
      "execution_count": null,
      "outputs": []
    },
    {
      "cell_type": "code",
      "execution_count": null,
      "id": "8f8a68a3",
      "metadata": {
        "id": "8f8a68a3",
        "outputId": "d0b44450-b050-4596-f5ae-5311ad00f0f3",
        "colab": {
          "base_uri": "https://localhost:8080/"
        }
      },
      "outputs": [
        {
          "output_type": "execute_result",
          "data": {
            "text/plain": [
              "array([[0.02963617],\n",
              "       [0.02498908],\n",
              "       [0.0253398 ],\n",
              "       ...,\n",
              "       [0.8751488 ],\n",
              "       [0.87287838],\n",
              "       [0.86720234]])"
            ]
          },
          "metadata": {},
          "execution_count": 35
        }
      ],
      "source": [
        "y_mm = mm.fit_transform(y)\n",
        "y_mm"
      ]
    },
    {
      "cell_type": "code",
      "execution_count": null,
      "id": "4d559bd1",
      "metadata": {
        "id": "4d559bd1",
        "outputId": "0c43998f-2df4-42eb-e0d8-7fa1ab197343",
        "colab": {
          "base_uri": "https://localhost:8080/"
        }
      },
      "outputs": [
        {
          "output_type": "execute_result",
          "data": {
            "text/plain": [
              "array([[0.03562314, 0.03720717, 0.03942571, 0.45181622, 0.03829161],\n",
              "       [0.03509145, 0.03559945, 0.03714676, 0.45476966, 0.0322873 ],\n",
              "       [0.03211399, 0.03628847, 0.03657703, 0.33121213, 0.03274046],\n",
              "       ...,\n",
              "       [0.8128456 , 0.8690859 , 0.86326345, 0.07760203, 0.86631925],\n",
              "       [0.81497235, 0.87712448, 0.8689608 , 0.08744909, 0.86405347],\n",
              "       [0.80965547, 0.87367938, 0.87010027, 0.08417874, 0.85838903]])"
            ]
          },
          "metadata": {},
          "execution_count": 36
        }
      ],
      "source": [
        "X_ss = ss.fit_transform(X)\n",
        "X_ss"
      ]
    },
    {
      "cell_type": "code",
      "execution_count": null,
      "id": "257b4615",
      "metadata": {
        "id": "257b4615",
        "outputId": "c4032fe8-2640-4a16-8991-9928dfd380a3",
        "colab": {
          "base_uri": "https://localhost:8080/"
        }
      },
      "outputs": [
        {
          "output_type": "stream",
          "name": "stdout",
          "text": [
            "X_train: (4800, 5), y_train: (4800, 1)\n",
            "X_test: (619, 5), y_test: (619, 1)\n"
          ]
        }
      ],
      "source": [
        "X_train = X_ss[:4800, :]\n",
        "X_test = X_ss[4800:, :]\n",
        "\n",
        "y_train = y_mm[:4800, :]\n",
        "y_test = y_mm[4800:, :]\n",
        "\n",
        "\n",
        "print(\"X_train: {}, y_train: {}\".format(X_train.shape, y_train.shape))\n",
        "print(\"X_test: {}, y_test: {}\".format(X_test.shape, y_test.shape))"
      ]
    },
    {
      "cell_type": "code",
      "execution_count": null,
      "id": "bbc328d5",
      "metadata": {
        "id": "bbc328d5",
        "outputId": "edd89fd5-9791-4ae2-c51f-c74681908970",
        "colab": {
          "base_uri": "https://localhost:8080/"
        }
      },
      "outputs": [
        {
          "output_type": "stream",
          "name": "stdout",
          "text": [
            "Training set:  torch.Size([4800, 1, 5]) torch.Size([4800, 1])\n",
            "Testing set:  torch.Size([619, 1, 5]) torch.Size([619, 1])\n"
          ]
        }
      ],
      "source": [
        "X_train = torch.FloatTensor(X_train).reshape(X_train.shape[0], 1, X_train.shape[1])\n",
        "X_test = torch.FloatTensor(X_test).reshape(X_test.shape[0], 1, X_test.shape[1])\n",
        "\n",
        "y_train = torch.FloatTensor(y_train)\n",
        "y_test = torch.FloatTensor(y_test)\n",
        "\n",
        "\n",
        "print(\"Training set: \", X_train.shape, y_train.shape)\n",
        "print(\"Testing set: \", X_test.shape, y_test.shape)"
      ]
    },
    {
      "cell_type": "code",
      "execution_count": null,
      "id": "c9a08501",
      "metadata": {
        "id": "c9a08501",
        "outputId": "2ca706ac-35ef-4d88-8a83-02d3686276cc",
        "colab": {
          "base_uri": "https://localhost:8080/"
        }
      },
      "outputs": [
        {
          "output_type": "stream",
          "name": "stdout",
          "text": [
            "cuda:0\n"
          ]
        }
      ],
      "source": [
        "device = torch.device(\"cuda:0\" if torch.cuda.is_available() else \"cpu\")\n",
        "\n",
        "print(device)"
      ]
    },
    {
      "cell_type": "code",
      "execution_count": null,
      "id": "62db1421",
      "metadata": {
        "id": "62db1421"
      },
      "outputs": [],
      "source": [
        "# 하이퍼파라미터 정의\n",
        "\n",
        "num_epochs = 1000\n",
        "learning_rate = 0.001\n",
        "\n",
        "input_size = 5\n",
        "hidden_size = 2\n",
        "num_classes = 1\n",
        "num_layers = 1"
      ]
    },
    {
      "cell_type": "code",
      "execution_count": null,
      "id": "036f0e60",
      "metadata": {
        "id": "036f0e60"
      },
      "outputs": [],
      "source": [
        "class Model(nn.Module):\n",
        "  def __init__(self, input_size, hidden_size, num_classes, num_layers, seq_length):\n",
        "    self.input_size = input_size\n",
        "    self.hidden_size = hidden_size\n",
        "    self.num_classes = num_classes\n",
        "    self.num_layers = num_layers\n",
        "    self.seq_length = seq_length\n",
        "\n",
        "    super(Model, self).__init__()\n",
        "\n",
        "    self.lstm = nn.LSTM(\n",
        "        input_size=input_size,\n",
        "        hidden_size=hidden_size,\n",
        "        num_layers=num_layers,\n",
        "        batch_first=True\n",
        "    )\n",
        "    self.fc_1 = nn.Linear(hidden_size, 128)\n",
        "    self.fc = nn.Linear(128, num_classes)\n",
        "    self.relu = nn.ReLU()\n",
        "\n",
        "  def forward(self, x):\n",
        "    output, (hn, cn) = self.lstm(x)\n",
        "\n",
        "    hn = hn.view(-1, self.hidden_size)\n",
        "    out = self.relu(hn)\n",
        "    out = self.fc_1(out)\n",
        "    out = self.relu(out)\n",
        "    out = self.fc(out)\n",
        "\n",
        "    return out"
      ]
    },
    {
      "cell_type": "code",
      "execution_count": null,
      "id": "53d0a52d",
      "metadata": {
        "id": "53d0a52d",
        "colab": {
          "base_uri": "https://localhost:8080/"
        },
        "outputId": "874fd1b5-5734-4a08-d448-ae3bebd2bc0d"
      },
      "outputs": [
        {
          "output_type": "execute_result",
          "data": {
            "text/plain": [
              "Model(\n",
              "  (lstm): LSTM(5, 2, batch_first=True)\n",
              "  (fc_1): Linear(in_features=2, out_features=128, bias=True)\n",
              "  (fc): Linear(in_features=128, out_features=1, bias=True)\n",
              "  (relu): ReLU()\n",
              ")"
            ]
          },
          "metadata": {},
          "execution_count": 49
        }
      ],
      "source": [
        "model = Model(input_size, hidden_size, num_classes, num_layers, seq_length=X_train.shape[1])\n",
        "model.to(device)"
      ]
    },
    {
      "cell_type": "code",
      "execution_count": null,
      "id": "8f7306f9",
      "metadata": {
        "id": "8f7306f9"
      },
      "outputs": [],
      "source": [
        "loss_function = nn.MSELoss()\n",
        "optimizer = optim.Adam(model.parameters(), lr=learning_rate)"
      ]
    },
    {
      "cell_type": "markdown",
      "source": [
        "## 모델 학습"
      ],
      "metadata": {
        "id": "ZRUiAOd3Kea_"
      },
      "id": "ZRUiAOd3Kea_"
    },
    {
      "cell_type": "code",
      "execution_count": null,
      "id": "1c34c81f",
      "metadata": {
        "id": "1c34c81f",
        "colab": {
          "base_uri": "https://localhost:8080/"
        },
        "outputId": "a11e544c-b3b7-423d-b6be-9de44a5e4ffc"
      },
      "outputs": [
        {
          "output_type": "stream",
          "name": "stdout",
          "text": [
            "Epoch  :  0,   loss  :  0.05185\n",
            "Epoch  :  100,   loss  :  0.00028\n",
            "Epoch  :  200,   loss  :  0.00006\n",
            "Epoch  :  300,   loss  :  0.00003\n",
            "Epoch  :  400,   loss  :  0.00003\n",
            "Epoch  :  500,   loss  :  0.00002\n",
            "Epoch  :  600,   loss  :  0.00001\n",
            "Epoch  :  700,   loss  :  0.00001\n",
            "Epoch  :  800,   loss  :  0.00001\n",
            "Epoch  :  900,   loss  :  0.00001\n"
          ]
        }
      ],
      "source": [
        "for epoch in range(num_epochs):\n",
        "  outputs = model(X_train.to(device)) # forward pass\n",
        "\n",
        "  optimizer.zero_grad()\n",
        "\n",
        "  loss = loss_function(outputs, y_train.to(device))\n",
        "  loss.backward()\n",
        "\n",
        "  optimizer.step()\n",
        "\n",
        "  if epoch % 100 == 0:\n",
        "    print(\"Epoch  :  %d,   loss  :  %.5f\" % (epoch, loss.item()))"
      ]
    },
    {
      "cell_type": "markdown",
      "source": [
        "## 테스트셋 추론 및 결과 확인"
      ],
      "metadata": {
        "id": "M6mCFIaVMDR3"
      },
      "id": "M6mCFIaVMDR3"
    },
    {
      "cell_type": "code",
      "execution_count": null,
      "id": "18252911",
      "metadata": {
        "id": "18252911"
      },
      "outputs": [],
      "source": [
        "prediction = model(X_test.to(device))"
      ]
    },
    {
      "cell_type": "code",
      "execution_count": null,
      "id": "8c12ced6",
      "metadata": {
        "id": "8c12ced6"
      },
      "outputs": [],
      "source": [
        "prediction = prediction.data.detach().cpu().numpy()"
      ]
    },
    {
      "cell_type": "code",
      "execution_count": null,
      "id": "116dce31",
      "metadata": {
        "id": "116dce31"
      },
      "outputs": [],
      "source": [
        "prediction"
      ]
    },
    {
      "cell_type": "code",
      "execution_count": null,
      "id": "1567699e",
      "metadata": {
        "id": "1567699e"
      },
      "outputs": [],
      "source": [
        "prediction = mm.inverse_transform(prediction)\n",
        "y_test = mm.inverse_transform(y_test)"
      ]
    },
    {
      "cell_type": "code",
      "execution_count": null,
      "id": "1c94da1a",
      "metadata": {
        "id": "1c94da1a",
        "colab": {
          "base_uri": "https://localhost:8080/",
          "height": 562
        },
        "outputId": "0343cf05-f7ec-4160-c02c-f41bed7f1760"
      },
      "outputs": [
        {
          "output_type": "execute_result",
          "data": {
            "text/plain": [
              "Text(0.5, 1.0, 'Time-Series Prediction')"
            ]
          },
          "metadata": {},
          "execution_count": 72
        },
        {
          "output_type": "display_data",
          "data": {
            "text/plain": [
              "<Figure size 1000x600 with 1 Axes>"
            ],
            "image/png": "[encoded data removed]"
          },
          "metadata": {}
        }
      ],
      "source": [
        "plt.figure(figsize=(10, 6))\n",
        "plt.plot(y_test, label='Actual Data')\n",
        "plt.plot(prediction, label='Predicted Data')\n",
        "plt.title('Time-Series Prediction')"
      ]
    },
    {
      "cell_type": "code",
      "source": [
        "df_X_ss = ss.transform(df.drop(columns='Adj Close'))\n",
        "df_y_mm = mm.transform(df.iloc[:, 4:5])\n",
        "df_X_ss = torch.FloatTensor(df_X_ss)\n",
        "df_y_mm = torch.FloatTensor(df_y_mm)\n",
        "\n",
        "df_X_ss = torch.reshape(df_X_ss, (df_X_ss.shape[0], 1, df_X_ss.shape[1]))"
      ],
      "metadata": {
        "id": "anD835gkNHy_"
      },
      "id": "anD835gkNHy_",
      "execution_count": null,
      "outputs": []
    },
    {
      "cell_type": "code",
      "source": [
        "df_X_ss"
      ],
      "metadata": {
        "colab": {
          "base_uri": "https://localhost:8080/"
        },
        "id": "6SZaI7FMOVWA",
        "outputId": "f85fe7c6-8be5-4caa-92da-5f3b46dc1954"
      },
      "id": "6SZaI7FMOVWA",
      "execution_count": null,
      "outputs": [
        {
          "output_type": "execute_result",
          "data": {
            "text/plain": [
              "tensor([[[0.0356, 0.0372, 0.0394, 0.4518, 0.0383]],\n",
              "\n",
              "        [[0.0351, 0.0356, 0.0371, 0.4548, 0.0323]],\n",
              "\n",
              "        [[0.0321, 0.0363, 0.0366, 0.3312, 0.0327]],\n",
              "\n",
              "        ...,\n",
              "\n",
              "        [[0.8128, 0.8691, 0.8633, 0.0776, 0.8663]],\n",
              "\n",
              "        [[0.8150, 0.8771, 0.8690, 0.0874, 0.8641]],\n",
              "\n",
              "        [[0.8097, 0.8737, 0.8701, 0.0842, 0.8584]]])"
            ]
          },
          "metadata": {},
          "execution_count": 63
        }
      ]
    },
    {
      "cell_type": "code",
      "source": [
        "train_pred = model(df_X_ss.to(device))\n",
        "\n",
        "train_pred = train_pred.data.detach().cpu().numpy()\n",
        "train_data = df_y_mm.data.numpy()"
      ],
      "metadata": {
        "id": "kCgqNSu_Ockq"
      },
      "id": "kCgqNSu_Ockq",
      "execution_count": null,
      "outputs": []
    },
    {
      "cell_type": "code",
      "source": [
        "train_pred = mm.inverse_transform(train_pred)\n",
        "train_data = mm.inverse_transform(train_data)"
      ],
      "metadata": {
        "id": "dJEPwh9NO4sC"
      },
      "id": "dJEPwh9NO4sC",
      "execution_count": null,
      "outputs": []
    },
    {
      "cell_type": "code",
      "source": [
        "train_pred"
      ],
      "metadata": {
        "colab": {
          "base_uri": "https://localhost:8080/"
        },
        "id": "hvdkVRyeO_nO",
        "outputId": "8a0b553c-967b-414e-b6f8-455cda93281d"
      },
      "id": "hvdkVRyeO_nO",
      "execution_count": null,
      "outputs": [
        {
          "output_type": "execute_result",
          "data": {
            "text/plain": [
              "array([[ 4530.056 ],\n",
              "       [ 4378.5767],\n",
              "       [ 4305.897 ],\n",
              "       ...,\n",
              "       [58810.09  ],\n",
              "       [58911.58  ],\n",
              "       [58751.996 ]], dtype=float32)"
            ]
          },
          "metadata": {},
          "execution_count": 66
        }
      ]
    },
    {
      "cell_type": "code",
      "source": [
        "plt.figure(figsize=(10, 6))\n",
        "plt.axvline(x=4800, c='r', linestyle='--')\n",
        "plt.plot(train_data, label='Actual Data')\n",
        "plt.plot(train_pred, label='Predicted Data')\n",
        "plt.title('Time-Series Prediction')"
      ],
      "metadata": {
        "colab": {
          "base_uri": "https://localhost:8080/",
          "height": 562
        },
        "id": "_MCirDsMPBCo",
        "outputId": "616ae714-9ed5-41fa-ce95-a69122780884"
      },
      "id": "_MCirDsMPBCo",
      "execution_count": null,
      "outputs": [
        {
          "output_type": "execute_result",
          "data": {
            "text/plain": [
              "Text(0.5, 1.0, 'Time-Series Prediction')"
            ]
          },
          "metadata": {},
          "execution_count": 70
        },
        {
          "output_type": "display_data",
          "data": {
            "text/plain": [
              "<Figure size 1000x600 with 1 Axes>"
            ],
            "image/png": "[encoded data removed]"
          },
          "metadata": {}
        }
      ]
    },
    {
      "cell_type": "code",
      "source": [],
      "metadata": {
        "id": "Me3vTiZMPbGg"
      },
      "id": "Me3vTiZMPbGg",
      "execution_count": null,
      "outputs": []
    }
  ],
  "metadata": {
    "kernelspec": {
      "display_name": "Python 3",
      "name": "python3"
    },
    "language_info": {
      "codemirror_mode": {
        "name": "ipython",
        "version": 3
      },
      "file_extension": ".py",
      "mimetype": "text/x-python",
      "name": "python",
      "nbconvert_exporter": "python",
      "pygments_lexer": "ipython3",
      "version": "3.8.0"
    },
    "colab": {
      "provenance": [],
      "gpuType": "T4",
      "include_colab_link": true
    },
    "accelerator": "GPU"
  },
  "nbformat": 4,
  "nbformat_minor": 5
}